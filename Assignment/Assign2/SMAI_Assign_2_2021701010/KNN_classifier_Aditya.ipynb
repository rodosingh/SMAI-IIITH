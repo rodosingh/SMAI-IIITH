{
 "cells": [
  {
   "cell_type": "markdown",
   "metadata": {},
   "source": [
    "# KNN Classifier"
   ]
  },
  {
   "cell_type": "markdown",
   "metadata": {},
   "source": [
    "### Dataset"
   ]
  },
  {
   "cell_type": "code",
   "execution_count": 1,
   "metadata": {},
   "outputs": [],
   "source": [
    "import numpy as np\n",
    "from numpy.linalg import norm\n",
    "import pandas as pd\n",
    "import matplotlib.pyplot as plt\n",
    "%matplotlib inline\n",
    "from sklearn.model_selection import train_test_split\n",
    "from sklearn.metrics import confusion_matrix, ConfusionMatrixDisplay"
   ]
  },
  {
   "cell_type": "code",
   "execution_count": 2,
   "metadata": {},
   "outputs": [],
   "source": [
    "#Load data\n",
    "iris = pd.read_csv('Iris.csv')\n",
    "#data cleaning\n",
    "iris.drop(columns=\"Id\",inplace=True)"
   ]
  },
  {
   "cell_type": "code",
   "execution_count": 3,
   "metadata": {},
   "outputs": [],
   "source": [
    "#features and labels\n",
    "X=iris.iloc[:,0:4].values\n",
    "y=iris.iloc[:,4].values\n",
    "\n",
    "#Train and Test split\n",
    "X_train,X_test,y_train,y_test=train_test_split(X,y,test_size=0.2,random_state=0)"
   ]
  },
  {
   "cell_type": "markdown",
   "metadata": {},
   "source": [
    "### KNN Classifier Function"
   ]
  },
  {
   "cell_type": "code",
   "execution_count": 7,
   "metadata": {},
   "outputs": [],
   "source": [
    "# define knn.\n",
    "class knn:\n",
    "    \"\"\"\n",
    "    Set attributes for KNN Function.\n",
    "    \"\"\"\n",
    "    def __init__(self, n_neighbors = 5, p=2):\n",
    "        self.n_neighbors = n_neighbors\n",
    "        self.p = p\n",
    "        \n",
    "    # function that returns the suitable label from a set of tied labels.\n",
    "    def choose_label(self):\n",
    "        \"\"\"\n",
    "        **Input should be of numpy array format**\n",
    "        tied_labels: labels which are tied.\n",
    "        nearest_labels: labels of records which are nearest to test sample\n",
    "        distance_array: distance of test sample from nearest records.\n",
    "        Output: \n",
    "            Relevant label\n",
    "        \"\"\"\n",
    "        # Return a dictionary of labels and their indices.\n",
    "        labels_idx = {label: np.argwhere(self.nearest_labels == label).ravel() for label in self.tied_labels}\n",
    "        # Return an array of tied labels and their avg distance.\n",
    "        labels_dist = np.array([[label, (self.distance_array[label_val]).sum()] for label, label_val in labels_idx.items()])\n",
    "        # now check if there are any duplicacy in labels avg distances.\n",
    "        unique_dist, cts = np.unique(labels_dist[:, 1], return_counts = True)\n",
    "        if np.any(cts - 1):\n",
    "            # get indexes of minimum distances and their corresponding labels\n",
    "            min_dist_tied_labels = (labels_dist[:, 0])[np.argwhere(labels_dist[:, 1] == np.argmin(unique_dist)).ravel()]\n",
    "            return min_dist_tied_labels[np.random.randint(0, len(min_dist_tied_labels))]\n",
    "        return (labels_dist[:, 0])[np.argmin(labels_dist[:, 1])]\n",
    "    \n",
    "    def fit(self, X, y):\n",
    "        \"\"\"\n",
    "        store X and y into self and no fitting as the dataset is the model here...\n",
    "        \"\"\"\n",
    "        self.X = X\n",
    "        self.y = y\n",
    "        return self\n",
    "    \n",
    "    # define Methods = predict, as there is nothing to fit here.\n",
    "    def predict(self, x_test):\n",
    "        \"\"\"\n",
    "        x_test: Expected array of 2D, if not expand it dimension.\n",
    "        \"\"\"\n",
    "        if x_test.ndim == 1:\n",
    "            x_test = np.expand_dims(x_test, 0)\n",
    "        # empty list.\n",
    "        test_label = []\n",
    "        for test_sample in x_test:\n",
    "            # distance of test sample from all train data points\n",
    "            dist_diff = norm((self.X - test_sample), self.p, axis = 1)\n",
    "            # chose n_neighbors minimum distances and return their index\n",
    "            min_idx = np.argpartition(dist_diff, self.n_neighbors)[:self.n_neighbors]\n",
    "            # choose the corresponding labels.\n",
    "            self.nearest_labels = self.y[min_idx]\n",
    "            # count the occurrences of labels\n",
    "            unique_labels, counts = np.unique(self.nearest_labels, return_counts = True)\n",
    "            # sort the counts in decreasing order and obtain the indices...\n",
    "            counts_idx = np.flip(np.argsort(counts))\n",
    "            # Arrange the class labels accordingly...\n",
    "            unique_labels = unique_labels[counts_idx]\n",
    "            # now check if the entries in counts_idx are unique... if not then there is some tie going on.\n",
    "            _, counts_of_count = np.unique(counts[counts_idx], return_counts = True)\n",
    "            if np.any(counts_of_count - 1): #check if any entries in counts have occurences > 1.\n",
    "                # tied labels\n",
    "                self.tied_labels = unique_labels[:counts_of_count[0]]# since counts is sorted descending.\n",
    "                self.distance_array = dist_diff[min_idx]\n",
    "                # return the suitable one from these tied labels.\n",
    "                test_label.append(self.choose_label())\n",
    "            else:\n",
    "                test_label.append(unique_labels[0])\n",
    "        return np.array(test_label)"
   ]
  },
  {
   "cell_type": "markdown",
   "metadata": {},
   "source": [
    "### Train the model"
   ]
  },
  {
   "cell_type": "code",
   "execution_count": 17,
   "metadata": {},
   "outputs": [],
   "source": [
    "# create an instance of KNN\n",
    "knn_classif = knn(n_neighbors = 5)\n",
    "# fit the model...\n",
    "knn_classif = knn_classif.fit(X_train, y_train)"
   ]
  },
  {
   "cell_type": "code",
   "execution_count": 18,
   "metadata": {},
   "outputs": [],
   "source": [
    "# Let's predict from the test data.\n",
    "predictions = knn_classif.predict(X_test).astype(np.object)"
   ]
  },
  {
   "cell_type": "markdown",
   "metadata": {},
   "source": [
    "### Display confusion matrix"
   ]
  },
  {
   "cell_type": "code",
   "execution_count": 19,
   "metadata": {},
   "outputs": [
    {
     "data": {
      "text/plain": [
       "<Figure size 1800x2160 with 0 Axes>"
      ]
     },
     "metadata": {},
     "output_type": "display_data"
    },
    {
     "data": {
      "image/png": "[encoded data removed]",
      "text/plain": [
       "<Figure size 432x288 with 2 Axes>"
      ]
     },
     "metadata": {
      "needs_background": "light"
     },
     "output_type": "display_data"
    }
   ],
   "source": [
    "plt.figure(figsize = (25, 30))\n",
    "cm = confusion_matrix(y_test, predictions, labels=['Iris-virginica', 'Iris-versicolor', 'Iris-setosa'])\n",
    "disp = ConfusionMatrixDisplay(confusion_matrix=cm, display_labels=['Iris-virginica', 'Iris-versicolor', 'Iris-setosa'])\n",
    "disp.plot()\n",
    "plt.title(\"Confusion Matrix with our version of Code.\")\n",
    "plt.show()"
   ]
  },
  {
   "cell_type": "markdown",
   "metadata": {},
   "source": [
    "### Accuracy of constructed KNN on test-set.\n",
    "$$accuracy = \\dfrac{TP + TN}{TP + TN + FP + FN}$$"
   ]
  },
  {
   "cell_type": "code",
   "execution_count": 20,
   "metadata": {},
   "outputs": [
    {
     "name": "stdout",
     "output_type": "stream",
     "text": [
      "Accuracy on test data: 0.967\n"
     ]
    }
   ],
   "source": [
    "print(\"Accuracy on test data: %.3f\"%((6+12+11)/(6+12+11+1)))"
   ]
  },
  {
   "cell_type": "markdown",
   "metadata": {},
   "source": [
    "### With Sklearn KNN class, let's see what results we're seeing."
   ]
  },
  {
   "cell_type": "code",
   "execution_count": 47,
   "metadata": {},
   "outputs": [],
   "source": [
    "from sklearn.neighbors import KNeighborsClassifier"
   ]
  },
  {
   "cell_type": "code",
   "execution_count": 49,
   "metadata": {},
   "outputs": [],
   "source": [
    "# Construct a KNN object\n",
    "neigh = KNeighborsClassifier(n_neighbors=5)\n",
    "# fit\n",
    "neigh.fit(X_train, y_train)\n",
    "# predict\n",
    "predictions_sk = neigh.predict(X_test)"
   ]
  },
  {
   "cell_type": "code",
   "execution_count": 52,
   "metadata": {},
   "outputs": [
    {
     "data": {
      "text/plain": [
       "<Figure size 1800x2160 with 0 Axes>"
      ]
     },
     "metadata": {},
     "output_type": "display_data"
    },
    {
     "data": {
      "image/png": "[encoded data removed]",
      "text/plain": [
       "<Figure size 432x288 with 2 Axes>"
      ]
     },
     "metadata": {
      "needs_background": "light"
     },
     "output_type": "display_data"
    }
   ],
   "source": [
    "# Lets plot the confusion matrix.\n",
    "plt.figure(figsize = (25, 30))\n",
    "cm_sk = confusion_matrix(y_test, predictions_sk, labels=['Iris-virginica', 'Iris-versicolor', 'Iris-setosa'])\n",
    "disp = ConfusionMatrixDisplay(confusion_matrix=cm_sk, display_labels=['Iris-virginica', 'Iris-versicolor', 'Iris-setosa'])\n",
    "disp.plot()\n",
    "plt.title(\"Confusion Matrix with Scikit Version.\")\n",
    "plt.show()"
   ]
  },
  {
   "cell_type": "code",
   "execution_count": 53,
   "metadata": {},
   "outputs": [
    {
     "name": "stdout",
     "output_type": "stream",
     "text": [
      "Accuracy on test data with sklearn model: 0.967\n"
     ]
    }
   ],
   "source": [
    "# Again the accuracy...\n",
    "print(\"Accuracy on test data with sklearn model: %.3f\"%((6+12+11)/(6+12+11+1)))"
   ]
  }
 ],
 "metadata": {
  "kernelspec": {
   "display_name": "Python 3",
   "language": "python",
   "name": "python3"
  },
  "language_info": {
   "codemirror_mode": {
    "name": "ipython",
    "version": 3
   },
   "file_extension": ".py",
   "mimetype": "text/x-python",
   "name": "python",
   "nbconvert_exporter": "python",
   "pygments_lexer": "ipython3",
   "version": "3.8.11"
  },
  "toc": {
   "base_numbering": 1,
   "nav_menu": {},
   "number_sections": true,
   "sideBar": true,
   "skip_h1_title": false,
   "title_cell": "Table of Contents",
   "title_sidebar": "Contents",
   "toc_cell": false,
   "toc_position": {},
   "toc_section_display": true,
   "toc_window_display": false
  }
 },
 "nbformat": 4,
 "nbformat_minor": 5
}
